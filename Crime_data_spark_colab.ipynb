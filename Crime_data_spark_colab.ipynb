{
  "cells": [
    {
      "cell_type": "markdown",
      "metadata": {
        "id": "view-in-github",
        "colab_type": "text"
      },
      "source": [
        "<a href=\"https://colab.research.google.com/github/veethikasingh/we-r-no-angels/blob/main/Crime_data_spark_colab.ipynb\" target=\"_parent\"><img src=\"https://colab.research.google.com/assets/colab-badge.svg\" alt=\"Open In Colab\"/></a>"
      ]
    },
    {
      "cell_type": "code",
      "execution_count": null,
      "metadata": {
        "id": "EFwO0JcGa3Xz"
      },
      "outputs": [],
      "source": []
    },
    {
      "cell_type": "code",
      "execution_count": 1,
      "metadata": {
        "colab": {
          "base_uri": "https://localhost:8080/"
        },
        "id": "N5RPGDkJa3X0",
        "outputId": "c38d1b65-f6cb-428b-a36d-8954c37e1693"
      },
      "outputs": [
        {
          "output_type": "stream",
          "name": "stdout",
          "text": [
            "Get:1 https://developer.download.nvidia.com/compute/cuda/repos/ubuntu2204/x86_64  InRelease [1,581 B]\n",
            "Get:2 https://cloud.r-project.org/bin/linux/ubuntu jammy-cran40/ InRelease [3,626 B]\n",
            "Get:3 https://developer.download.nvidia.com/compute/cuda/repos/ubuntu2204/x86_64  Packages [929 kB]\n",
            "Hit:4 http://archive.ubuntu.com/ubuntu jammy InRelease\n",
            "Get:5 http://security.ubuntu.com/ubuntu jammy-security InRelease [129 kB]\n",
            "Get:6 http://archive.ubuntu.com/ubuntu jammy-updates InRelease [128 kB]\n",
            "Hit:7 https://ppa.launchpadcontent.net/c2d4u.team/c2d4u4.0+/ubuntu jammy InRelease\n",
            "Hit:8 https://ppa.launchpadcontent.net/deadsnakes/ppa/ubuntu jammy InRelease\n",
            "Hit:9 http://archive.ubuntu.com/ubuntu jammy-backports InRelease\n",
            "Hit:10 https://ppa.launchpadcontent.net/graphics-drivers/ppa/ubuntu jammy InRelease\n",
            "Hit:11 https://ppa.launchpadcontent.net/ubuntugis/ppa/ubuntu jammy InRelease\n",
            "Get:12 http://archive.ubuntu.com/ubuntu jammy-updates/restricted amd64 Packages [2,627 kB]\n",
            "Get:13 http://archive.ubuntu.com/ubuntu jammy-updates/universe amd64 Packages [1,394 kB]\n",
            "Get:14 http://archive.ubuntu.com/ubuntu jammy-updates/main amd64 Packages [2,231 kB]\n",
            "Get:15 http://security.ubuntu.com/ubuntu jammy-security/restricted amd64 Packages [2,479 kB]\n",
            "Get:16 http://security.ubuntu.com/ubuntu jammy-security/main amd64 Packages [1,924 kB]\n",
            "Fetched 11.8 MB in 7s (1,780 kB/s)\n",
            "Reading package lists... Done\n"
          ]
        }
      ],
      "source": [
        "import os\n",
        "\n",
        "# Find the latest version of spark 3.x  from http://www.apache.org/dist/spark/ and enter as the spark version\n",
        "# For example:\n",
        "# spark_version = 'spark-3.4.0'\n",
        "spark_version = 'spark-3.5.1'\n",
        "os.environ['SPARK_VERSION']=spark_version\n",
        "\n",
        "# Install Spark and Java\n",
        "!apt-get update\n",
        "!apt-get install openjdk-11-jdk-headless -qq > /dev/null\n",
        "!wget -q http://www.apache.org/dist/spark/$SPARK_VERSION/$SPARK_VERSION-bin-hadoop3.tgz\n",
        "!tar xf $SPARK_VERSION-bin-hadoop3.tgz\n",
        "!pip install -q findspark\n",
        "\n",
        "# Set Environment Variables\n",
        "os.environ[\"JAVA_HOME\"] = \"/usr/lib/jvm/java-11-openjdk-amd64\"\n",
        "os.environ[\"SPARK_HOME\"] = f\"/content/{spark_version}-bin-hadoop3\"\n",
        "\n",
        "# Start a SparkSession\n",
        "import findspark\n",
        "findspark.init()"
      ]
    },
    {
      "cell_type": "code",
      "source": [
        "from google.colab import files\n",
        "uploaded = files.upload()"
      ],
      "metadata": {
        "colab": {
          "base_uri": "https://localhost:8080/",
          "height": 74
        },
        "id": "h4oetn6sefam",
        "outputId": "c9f9eca1-607e-4b78-d807-1f515ff696aa"
      },
      "execution_count": 3,
      "outputs": [
        {
          "output_type": "display_data",
          "data": {
            "text/plain": [
              "<IPython.core.display.HTML object>"
            ],
            "text/html": [
              "\n",
              "     <input type=\"file\" id=\"files-267c233c-1091-4e60-81f1-1eb1b9f88267\" name=\"files[]\" multiple disabled\n",
              "        style=\"border:none\" />\n",
              "     <output id=\"result-267c233c-1091-4e60-81f1-1eb1b9f88267\">\n",
              "      Upload widget is only available when the cell has been executed in the\n",
              "      current browser session. Please rerun this cell to enable.\n",
              "      </output>\n",
              "      <script>// Copyright 2017 Google LLC\n",
              "//\n",
              "// Licensed under the Apache License, Version 2.0 (the \"License\");\n",
              "// you may not use this file except in compliance with the License.\n",
              "// You may obtain a copy of the License at\n",
              "//\n",
              "//      http://www.apache.org/licenses/LICENSE-2.0\n",
              "//\n",
              "// Unless required by applicable law or agreed to in writing, software\n",
              "// distributed under the License is distributed on an \"AS IS\" BASIS,\n",
              "// WITHOUT WARRANTIES OR CONDITIONS OF ANY KIND, either express or implied.\n",
              "// See the License for the specific language governing permissions and\n",
              "// limitations under the License.\n",
              "\n",
              "/**\n",
              " * @fileoverview Helpers for google.colab Python module.\n",
              " */\n",
              "(function(scope) {\n",
              "function span(text, styleAttributes = {}) {\n",
              "  const element = document.createElement('span');\n",
              "  element.textContent = text;\n",
              "  for (const key of Object.keys(styleAttributes)) {\n",
              "    element.style[key] = styleAttributes[key];\n",
              "  }\n",
              "  return element;\n",
              "}\n",
              "\n",
              "// Max number of bytes which will be uploaded at a time.\n",
              "const MAX_PAYLOAD_SIZE = 100 * 1024;\n",
              "\n",
              "function _uploadFiles(inputId, outputId) {\n",
              "  const steps = uploadFilesStep(inputId, outputId);\n",
              "  const outputElement = document.getElementById(outputId);\n",
              "  // Cache steps on the outputElement to make it available for the next call\n",
              "  // to uploadFilesContinue from Python.\n",
              "  outputElement.steps = steps;\n",
              "\n",
              "  return _uploadFilesContinue(outputId);\n",
              "}\n",
              "\n",
              "// This is roughly an async generator (not supported in the browser yet),\n",
              "// where there are multiple asynchronous steps and the Python side is going\n",
              "// to poll for completion of each step.\n",
              "// This uses a Promise to block the python side on completion of each step,\n",
              "// then passes the result of the previous step as the input to the next step.\n",
              "function _uploadFilesContinue(outputId) {\n",
              "  const outputElement = document.getElementById(outputId);\n",
              "  const steps = outputElement.steps;\n",
              "\n",
              "  const next = steps.next(outputElement.lastPromiseValue);\n",
              "  return Promise.resolve(next.value.promise).then((value) => {\n",
              "    // Cache the last promise value to make it available to the next\n",
              "    // step of the generator.\n",
              "    outputElement.lastPromiseValue = value;\n",
              "    return next.value.response;\n",
              "  });\n",
              "}\n",
              "\n",
              "/**\n",
              " * Generator function which is called between each async step of the upload\n",
              " * process.\n",
              " * @param {string} inputId Element ID of the input file picker element.\n",
              " * @param {string} outputId Element ID of the output display.\n",
              " * @return {!Iterable<!Object>} Iterable of next steps.\n",
              " */\n",
              "function* uploadFilesStep(inputId, outputId) {\n",
              "  const inputElement = document.getElementById(inputId);\n",
              "  inputElement.disabled = false;\n",
              "\n",
              "  const outputElement = document.getElementById(outputId);\n",
              "  outputElement.innerHTML = '';\n",
              "\n",
              "  const pickedPromise = new Promise((resolve) => {\n",
              "    inputElement.addEventListener('change', (e) => {\n",
              "      resolve(e.target.files);\n",
              "    });\n",
              "  });\n",
              "\n",
              "  const cancel = document.createElement('button');\n",
              "  inputElement.parentElement.appendChild(cancel);\n",
              "  cancel.textContent = 'Cancel upload';\n",
              "  const cancelPromise = new Promise((resolve) => {\n",
              "    cancel.onclick = () => {\n",
              "      resolve(null);\n",
              "    };\n",
              "  });\n",
              "\n",
              "  // Wait for the user to pick the files.\n",
              "  const files = yield {\n",
              "    promise: Promise.race([pickedPromise, cancelPromise]),\n",
              "    response: {\n",
              "      action: 'starting',\n",
              "    }\n",
              "  };\n",
              "\n",
              "  cancel.remove();\n",
              "\n",
              "  // Disable the input element since further picks are not allowed.\n",
              "  inputElement.disabled = true;\n",
              "\n",
              "  if (!files) {\n",
              "    return {\n",
              "      response: {\n",
              "        action: 'complete',\n",
              "      }\n",
              "    };\n",
              "  }\n",
              "\n",
              "  for (const file of files) {\n",
              "    const li = document.createElement('li');\n",
              "    li.append(span(file.name, {fontWeight: 'bold'}));\n",
              "    li.append(span(\n",
              "        `(${file.type || 'n/a'}) - ${file.size} bytes, ` +\n",
              "        `last modified: ${\n",
              "            file.lastModifiedDate ? file.lastModifiedDate.toLocaleDateString() :\n",
              "                                    'n/a'} - `));\n",
              "    const percent = span('0% done');\n",
              "    li.appendChild(percent);\n",
              "\n",
              "    outputElement.appendChild(li);\n",
              "\n",
              "    const fileDataPromise = new Promise((resolve) => {\n",
              "      const reader = new FileReader();\n",
              "      reader.onload = (e) => {\n",
              "        resolve(e.target.result);\n",
              "      };\n",
              "      reader.readAsArrayBuffer(file);\n",
              "    });\n",
              "    // Wait for the data to be ready.\n",
              "    let fileData = yield {\n",
              "      promise: fileDataPromise,\n",
              "      response: {\n",
              "        action: 'continue',\n",
              "      }\n",
              "    };\n",
              "\n",
              "    // Use a chunked sending to avoid message size limits. See b/62115660.\n",
              "    let position = 0;\n",
              "    do {\n",
              "      const length = Math.min(fileData.byteLength - position, MAX_PAYLOAD_SIZE);\n",
              "      const chunk = new Uint8Array(fileData, position, length);\n",
              "      position += length;\n",
              "\n",
              "      const base64 = btoa(String.fromCharCode.apply(null, chunk));\n",
              "      yield {\n",
              "        response: {\n",
              "          action: 'append',\n",
              "          file: file.name,\n",
              "          data: base64,\n",
              "        },\n",
              "      };\n",
              "\n",
              "      let percentDone = fileData.byteLength === 0 ?\n",
              "          100 :\n",
              "          Math.round((position / fileData.byteLength) * 100);\n",
              "      percent.textContent = `${percentDone}% done`;\n",
              "\n",
              "    } while (position < fileData.byteLength);\n",
              "  }\n",
              "\n",
              "  // All done.\n",
              "  yield {\n",
              "    response: {\n",
              "      action: 'complete',\n",
              "    }\n",
              "  };\n",
              "}\n",
              "\n",
              "scope.google = scope.google || {};\n",
              "scope.google.colab = scope.google.colab || {};\n",
              "scope.google.colab._files = {\n",
              "  _uploadFiles,\n",
              "  _uploadFilesContinue,\n",
              "};\n",
              "})(self);\n",
              "</script> "
            ]
          },
          "metadata": {}
        },
        {
          "output_type": "stream",
          "name": "stdout",
          "text": [
            "Saving Crime_Data_from_2020_to_Present_20240611 clean.csv to Crime_Data_from_2020_to_Present_20240611 clean.csv\n"
          ]
        }
      ]
    },
    {
      "cell_type": "code",
      "execution_count": 4,
      "metadata": {
        "id": "3cnoJkpEa3X3"
      },
      "outputs": [],
      "source": [
        "# Import dependencies\n",
        "from pyspark.sql import SparkSession\n",
        "import time\n",
        "\n",
        "# Create a SparkSession\n",
        "spark = SparkSession.builder.appName(\"SparkSQL\").getOrCreate()"
      ]
    },
    {
      "cell_type": "markdown",
      "metadata": {
        "id": "Q-HbqH1ta3X3"
      },
      "source": [
        "### Extract the crime Data"
      ]
    },
    {
      "cell_type": "code",
      "execution_count": 5,
      "metadata": {
        "scrolled": false,
        "colab": {
          "base_uri": "https://localhost:8080/"
        },
        "id": "rsTNmsCna3X4",
        "outputId": "52a85c32-a21b-4a70-9848-c1f8a77fa63c"
      },
      "outputs": [
        {
          "output_type": "stream",
          "name": "stdout",
          "text": [
            "+---------+-------------+-------------+--------+----+-----------+-----------+--------+------+--------------------+--------------------+--------+--------+------------+---------+--------------------+--------------+--------------------+------+------------+--------+--------+--------+--------+--------------------+--------------------+-------+---------+\n",
            "|    DR_NO|    Date Rptd|     DATE OCC|TIME OCC|AREA|  AREA NAME|Rpt Dist No|Part 1-2|Crm Cd|         Crm Cd Desc|             Mocodes|Vict Age|Vict Sex|Vict Descent|Premis Cd|         Premis Desc|Weapon Used Cd|         Weapon Desc|Status| Status Desc|Crm Cd 1|Crm Cd 2|Crm Cd 3|Crm Cd 4|            LOCATION|        Cross Street|    LAT|      LON|\n",
            "+---------+-------------+-------------+--------+----+-----------+-----------+--------+------+--------------------+--------------------+--------+--------+------------+---------+--------------------+--------------+--------------------+------+------------+--------+--------+--------+--------+--------------------+--------------------+-------+---------+\n",
            "|190326475|  3/1/20 0:00|  3/1/20 0:00|    2130|   7|   Wilshire|        784|       1|   510|    VEHICLE - STOLEN|                NULL|       0|       M|           O|      101|              STREET|          NULL|                NULL|    AA|Adult Arrest|     510|     998|    NULL|    NULL|1900 S  LONGWOOD ...|                NULL|34.0375|-118.3506|\n",
            "|200106753|  2/9/20 0:00|  2/8/20 0:00|    1800|   1|    Central|        182|       1|   330|BURGLARY FROM VEH...|      1822 1402 0344|      47|       M|           O|      128|BUS STOP/LAYOVER ...|          NULL|                NULL|    IC| Invest Cont|     330|     998|    NULL|    NULL|1000 S  FLOWER   ...|                NULL|34.0444|-118.2628|\n",
            "|200320258|11/11/20 0:00| 11/4/20 0:00|    1700|   3|  Southwest|        356|       1|   480|       BIKE - STOLEN|           0344 1251|      19|       X|           X|      502|MULTI-UNIT DWELLI...|          NULL|                NULL|    IC| Invest Cont|     480|    NULL|    NULL|    NULL|1400 W  37TH     ...|                NULL| 34.021|-118.3002|\n",
            "|200907217| 5/10/23 0:00| 3/10/20 0:00|    2037|   9|   Van Nuys|        964|       1|   343|SHOPLIFTING-GRAND...|           0325 1501|      19|       M|           O|      405|      CLOTHING STORE|          NULL|                NULL|    IC| Invest Cont|     343|    NULL|    NULL|    NULL|14000    RIVERSID...|                NULL|34.1576|-118.4387|\n",
            "|220614831| 8/18/22 0:00| 8/17/20 0:00|    1200|   6|  Hollywood|        666|       2|   354|   THEFT OF IDENTITY| 1822 1501 0930 2004|      28|       M|           H|      102|            SIDEWALK|          NULL|                NULL|    IC| Invest Cont|     354|    NULL|    NULL|    NULL|   1900    TRANSIENT|                NULL|34.0944|-118.3277|\n",
            "|231808869|  4/4/23 0:00| 12/1/20 0:00|    2300|  18|  Southeast|       1826|       2|   354|   THEFT OF IDENTITY| 1822 0100 0930 0929|      41|       M|           H|      501|SINGLE FAMILY DWE...|          NULL|                NULL|    IC| Invest Cont|     354|    NULL|    NULL|    NULL|9900    COMPTON  ...|                NULL|33.9467|-118.2463|\n",
            "|230110144|  4/4/23 0:00|  7/3/20 0:00|     900|   1|    Central|        182|       2|   354|   THEFT OF IDENTITY|           0930 0929|      25|       M|           H|      502|MULTI-UNIT DWELLI...|          NULL|                NULL|    IC| Invest Cont|     354|    NULL|    NULL|    NULL|1100 S  GRAND    ...|                NULL|34.0415| -118.262|\n",
            "|220314085| 7/22/22 0:00| 5/12/20 0:00|    1110|   3|  Southwest|        303|       2|   354|   THEFT OF IDENTITY|                 100|      27|       F|           B|      248|    CELL PHONE STORE|          NULL|                NULL|    IC| Invest Cont|     354|    NULL|    NULL|    NULL|2500 S  SYCAMORE ...|                NULL|34.0335|-118.3537|\n",
            "|231309864| 4/28/23 0:00| 12/9/20 0:00|    1400|  13|     Newton|       1375|       2|   354|   THEFT OF IDENTITY|                 100|      24|       F|           B|      750|          CYBERSPACE|          NULL|                NULL|    IC| Invest Cont|     354|    NULL|    NULL|    NULL|1300 E  57TH     ...|                NULL|33.9911|-118.2521|\n",
            "|211904005|12/31/20 0:00|12/31/20 0:00|    1220|  19|    Mission|       1974|       2|   624|BATTERY - SIMPLE ...|                 416|      26|       M|           H|      502|MULTI-UNIT DWELLI...|           400|STRONG-ARM (HANDS...|    IC| Invest Cont|     624|    NULL|    NULL|    NULL|9000    CEDROS   ...|                NULL|34.2336|-118.4535|\n",
            "|221804943| 1/21/22 0:00|  7/1/20 0:00|    1335|  18|  Southeast|       1822|       2|   354|   THEFT OF IDENTITY|           1822 0930|      26|       M|           B|      501|SINGLE FAMILY DWE...|          NULL|                NULL|    IC| Invest Cont|     354|    NULL|    NULL|    NULL|100 W  COLDEN    ...|                NULL|33.9492|-118.2739|\n",
            "|221908151| 4/12/22 0:00| 10/1/20 0:00|       1|  19|    Mission|       1988|       1|   821|SODOMY/SEXUAL CON...|0913 2024 1817 03...|       8|       F|           H|      501|SINGLE FAMILY DWE...|           400|STRONG-ARM (HANDS...|    IC| Invest Cont|     812|     821|    NULL|    NULL|13400    RANGOON ...|                NULL|34.2285|-118.4258|\n",
            "|230204214|  1/5/23 0:00|  2/1/20 0:00|     800|   2|    Rampart|        201|       2|   812|CRM AGNST CHLD (1...|1251 1258 0913 04...|       7|       F|           W|      502|MULTI-UNIT DWELLI...|           400|STRONG-ARM (HANDS...|    IC| Invest Cont|     812|     860|    NULL|    NULL|900 N  MARIPOSA  ...|                NULL|34.0868|-118.2991|\n",
            "|221008844|  5/6/22 0:00| 11/1/20 0:00|     130|  10|West Valley|       1029|       1|   510|    VEHICLE - STOLEN|                NULL|       0|    NULL|        NULL|      101|              STREET|          NULL|                NULL|    IC| Invest Cont|     510|    NULL|    NULL|    NULL|VALJEAN          ...|VANOWEN          ...|34.1939|-118.4859|\n",
            "|230207571| 3/16/23 0:00|  1/1/20 0:00|    1500|   2|    Rampart|        271|       2|   810|SEX,UNLAWFUL(INC ...|2000 1251 1259 05...|      13|       F|           H|      502|MULTI-UNIT DWELLI...|          NULL|                NULL|    JA|  Juv Arrest|     810|    NULL|    NULL|    NULL|900 S  LAKE      ...|                NULL|34.0539|-118.2799|\n",
            "|230312288|  6/1/23 0:00|  2/2/20 0:00|     315|   3|  Southwest|        391|       2|   354|   THEFT OF IDENTITY|0100 0928 0929 09...|      56|       M|           B|      502|MULTI-UNIT DWELLI...|          NULL|                NULL|    IC| Invest Cont|     354|    NULL|    NULL|    NULL|4200    SANTO TOM...|                NULL|34.0103|-118.3456|\n",
            "|231805781|  2/3/23 0:00|  7/1/20 0:00|     805|  18|  Southeast|       1802|       2|   354|   THEFT OF IDENTITY|           0928 1822|      22|       F|           B|      502|MULTI-UNIT DWELLI...|          NULL|                NULL|    IC| Invest Cont|     354|    NULL|    NULL|    NULL|400 W  90TH      ...|                NULL|33.9551|-118.2814|\n",
            "|231322474|12/24/23 0:00|  1/9/20 0:00|    1200|  13|     Newton|       1354|       2|   354|   THEFT OF IDENTITY|                 100|      23|       M|           B|      501|SINGLE FAMILY DWE...|          NULL|                NULL|    IC| Invest Cont|     354|    NULL|    NULL|    NULL|4000    WALL     ...|                NULL|34.0112|-118.2716|\n",
            "|210705560|11/27/20 0:00|11/27/20 0:00|    1800|   7|   Wilshire|        776|       1|   230|ASSAULT WITH DEAD...|           1309 0400|      31|       F|           O|      101|              STREET|           307|             VEHICLE|    AA|Adult Arrest|     230|    NULL|    NULL|    NULL|4500    LOMITA   ...|                NULL|34.0452|-118.3351|\n",
            "|221016258| 9/20/22 0:00|  1/1/20 0:00|       1|  10|West Valley|       1067|       2|   956|LETTERS, LEWD  - ...|      2041 1906 1822|      30|       F|           O|      501|SINGLE FAMILY DWE...|          NULL|                NULL|    IC| Invest Cont|     956|    NULL|    NULL|    NULL|5200    GENESTA  ...|                NULL| 34.166|-118.5033|\n",
            "+---------+-------------+-------------+--------+----+-----------+-----------+--------+------+--------------------+--------------------+--------+--------+------------+---------+--------------------+--------------+--------------------+------+------------+--------+--------+--------+--------+--------------------+--------------------+-------+---------+\n",
            "only showing top 20 rows\n",
            "\n"
          ]
        }
      ],
      "source": [
        "# Read the data into a DataFrame\n",
        "from pyspark import SparkFiles\n",
        "crimes_df = spark.read.csv(SparkFiles.get(\"/content/Crime_Data_from_2020_to_Present_20240611 clean.csv\"), sep=\",\", header=True)\n",
        "crimes_df.show()\n",
        "\n",
        "\n",
        "\n"
      ]
    },
    {
      "cell_type": "code",
      "source": [
        "# Import packages\n",
        "from pyspark.sql import SparkSession\n",
        "from pyspark.sql import Row\n",
        "from pyspark.sql.types import StructType,StructField,StringType, DateType,IntegerType\n",
        "\n",
        "# Create a SparkSession\n",
        "spark = SparkSession.builder.appName(\"SparkSQL\").getOrCreate()"
      ],
      "metadata": {
        "id": "YtPdj03mS33v"
      },
      "execution_count": 6,
      "outputs": []
    },
    {
      "cell_type": "code",
      "source": [
        "# Rename Columns\n",
        "df = crimes_df.withColumnRenamed(\"AREA NAME\",\n",
        "                                  \"District\").withColumnRenamed(\"Crm Cd Desc\",\n",
        "                                                          \"Crimes\")\n",
        "\n"
      ],
      "metadata": {
        "id": "YHtgpSm7UgXK"
      },
      "execution_count": 7,
      "outputs": []
    },
    {
      "cell_type": "code",
      "source": [
        "df.show()"
      ],
      "metadata": {
        "colab": {
          "base_uri": "https://localhost:8080/"
        },
        "id": "Tc7PfvWoUzYU",
        "outputId": "58aaf670-9141-47e8-ce2a-a4944ac4559b"
      },
      "execution_count": 8,
      "outputs": [
        {
          "output_type": "stream",
          "name": "stdout",
          "text": [
            "+---------+-------------+-------------+--------+----+-----------+-----------+--------+------+--------------------+--------------------+--------+--------+------------+---------+--------------------+--------------+--------------------+------+------------+--------+--------+--------+--------+--------------------+--------------------+-------+---------+\n",
            "|    DR_NO|    Date Rptd|     DATE OCC|TIME OCC|AREA|   District|Rpt Dist No|Part 1-2|Crm Cd|              Crimes|             Mocodes|Vict Age|Vict Sex|Vict Descent|Premis Cd|         Premis Desc|Weapon Used Cd|         Weapon Desc|Status| Status Desc|Crm Cd 1|Crm Cd 2|Crm Cd 3|Crm Cd 4|            LOCATION|        Cross Street|    LAT|      LON|\n",
            "+---------+-------------+-------------+--------+----+-----------+-----------+--------+------+--------------------+--------------------+--------+--------+------------+---------+--------------------+--------------+--------------------+------+------------+--------+--------+--------+--------+--------------------+--------------------+-------+---------+\n",
            "|190326475|  3/1/20 0:00|  3/1/20 0:00|    2130|   7|   Wilshire|        784|       1|   510|    VEHICLE - STOLEN|                NULL|       0|       M|           O|      101|              STREET|          NULL|                NULL|    AA|Adult Arrest|     510|     998|    NULL|    NULL|1900 S  LONGWOOD ...|                NULL|34.0375|-118.3506|\n",
            "|200106753|  2/9/20 0:00|  2/8/20 0:00|    1800|   1|    Central|        182|       1|   330|BURGLARY FROM VEH...|      1822 1402 0344|      47|       M|           O|      128|BUS STOP/LAYOVER ...|          NULL|                NULL|    IC| Invest Cont|     330|     998|    NULL|    NULL|1000 S  FLOWER   ...|                NULL|34.0444|-118.2628|\n",
            "|200320258|11/11/20 0:00| 11/4/20 0:00|    1700|   3|  Southwest|        356|       1|   480|       BIKE - STOLEN|           0344 1251|      19|       X|           X|      502|MULTI-UNIT DWELLI...|          NULL|                NULL|    IC| Invest Cont|     480|    NULL|    NULL|    NULL|1400 W  37TH     ...|                NULL| 34.021|-118.3002|\n",
            "|200907217| 5/10/23 0:00| 3/10/20 0:00|    2037|   9|   Van Nuys|        964|       1|   343|SHOPLIFTING-GRAND...|           0325 1501|      19|       M|           O|      405|      CLOTHING STORE|          NULL|                NULL|    IC| Invest Cont|     343|    NULL|    NULL|    NULL|14000    RIVERSID...|                NULL|34.1576|-118.4387|\n",
            "|220614831| 8/18/22 0:00| 8/17/20 0:00|    1200|   6|  Hollywood|        666|       2|   354|   THEFT OF IDENTITY| 1822 1501 0930 2004|      28|       M|           H|      102|            SIDEWALK|          NULL|                NULL|    IC| Invest Cont|     354|    NULL|    NULL|    NULL|   1900    TRANSIENT|                NULL|34.0944|-118.3277|\n",
            "|231808869|  4/4/23 0:00| 12/1/20 0:00|    2300|  18|  Southeast|       1826|       2|   354|   THEFT OF IDENTITY| 1822 0100 0930 0929|      41|       M|           H|      501|SINGLE FAMILY DWE...|          NULL|                NULL|    IC| Invest Cont|     354|    NULL|    NULL|    NULL|9900    COMPTON  ...|                NULL|33.9467|-118.2463|\n",
            "|230110144|  4/4/23 0:00|  7/3/20 0:00|     900|   1|    Central|        182|       2|   354|   THEFT OF IDENTITY|           0930 0929|      25|       M|           H|      502|MULTI-UNIT DWELLI...|          NULL|                NULL|    IC| Invest Cont|     354|    NULL|    NULL|    NULL|1100 S  GRAND    ...|                NULL|34.0415| -118.262|\n",
            "|220314085| 7/22/22 0:00| 5/12/20 0:00|    1110|   3|  Southwest|        303|       2|   354|   THEFT OF IDENTITY|                 100|      27|       F|           B|      248|    CELL PHONE STORE|          NULL|                NULL|    IC| Invest Cont|     354|    NULL|    NULL|    NULL|2500 S  SYCAMORE ...|                NULL|34.0335|-118.3537|\n",
            "|231309864| 4/28/23 0:00| 12/9/20 0:00|    1400|  13|     Newton|       1375|       2|   354|   THEFT OF IDENTITY|                 100|      24|       F|           B|      750|          CYBERSPACE|          NULL|                NULL|    IC| Invest Cont|     354|    NULL|    NULL|    NULL|1300 E  57TH     ...|                NULL|33.9911|-118.2521|\n",
            "|211904005|12/31/20 0:00|12/31/20 0:00|    1220|  19|    Mission|       1974|       2|   624|BATTERY - SIMPLE ...|                 416|      26|       M|           H|      502|MULTI-UNIT DWELLI...|           400|STRONG-ARM (HANDS...|    IC| Invest Cont|     624|    NULL|    NULL|    NULL|9000    CEDROS   ...|                NULL|34.2336|-118.4535|\n",
            "|221804943| 1/21/22 0:00|  7/1/20 0:00|    1335|  18|  Southeast|       1822|       2|   354|   THEFT OF IDENTITY|           1822 0930|      26|       M|           B|      501|SINGLE FAMILY DWE...|          NULL|                NULL|    IC| Invest Cont|     354|    NULL|    NULL|    NULL|100 W  COLDEN    ...|                NULL|33.9492|-118.2739|\n",
            "|221908151| 4/12/22 0:00| 10/1/20 0:00|       1|  19|    Mission|       1988|       1|   821|SODOMY/SEXUAL CON...|0913 2024 1817 03...|       8|       F|           H|      501|SINGLE FAMILY DWE...|           400|STRONG-ARM (HANDS...|    IC| Invest Cont|     812|     821|    NULL|    NULL|13400    RANGOON ...|                NULL|34.2285|-118.4258|\n",
            "|230204214|  1/5/23 0:00|  2/1/20 0:00|     800|   2|    Rampart|        201|       2|   812|CRM AGNST CHLD (1...|1251 1258 0913 04...|       7|       F|           W|      502|MULTI-UNIT DWELLI...|           400|STRONG-ARM (HANDS...|    IC| Invest Cont|     812|     860|    NULL|    NULL|900 N  MARIPOSA  ...|                NULL|34.0868|-118.2991|\n",
            "|221008844|  5/6/22 0:00| 11/1/20 0:00|     130|  10|West Valley|       1029|       1|   510|    VEHICLE - STOLEN|                NULL|       0|    NULL|        NULL|      101|              STREET|          NULL|                NULL|    IC| Invest Cont|     510|    NULL|    NULL|    NULL|VALJEAN          ...|VANOWEN          ...|34.1939|-118.4859|\n",
            "|230207571| 3/16/23 0:00|  1/1/20 0:00|    1500|   2|    Rampart|        271|       2|   810|SEX,UNLAWFUL(INC ...|2000 1251 1259 05...|      13|       F|           H|      502|MULTI-UNIT DWELLI...|          NULL|                NULL|    JA|  Juv Arrest|     810|    NULL|    NULL|    NULL|900 S  LAKE      ...|                NULL|34.0539|-118.2799|\n",
            "|230312288|  6/1/23 0:00|  2/2/20 0:00|     315|   3|  Southwest|        391|       2|   354|   THEFT OF IDENTITY|0100 0928 0929 09...|      56|       M|           B|      502|MULTI-UNIT DWELLI...|          NULL|                NULL|    IC| Invest Cont|     354|    NULL|    NULL|    NULL|4200    SANTO TOM...|                NULL|34.0103|-118.3456|\n",
            "|231805781|  2/3/23 0:00|  7/1/20 0:00|     805|  18|  Southeast|       1802|       2|   354|   THEFT OF IDENTITY|           0928 1822|      22|       F|           B|      502|MULTI-UNIT DWELLI...|          NULL|                NULL|    IC| Invest Cont|     354|    NULL|    NULL|    NULL|400 W  90TH      ...|                NULL|33.9551|-118.2814|\n",
            "|231322474|12/24/23 0:00|  1/9/20 0:00|    1200|  13|     Newton|       1354|       2|   354|   THEFT OF IDENTITY|                 100|      23|       M|           B|      501|SINGLE FAMILY DWE...|          NULL|                NULL|    IC| Invest Cont|     354|    NULL|    NULL|    NULL|4000    WALL     ...|                NULL|34.0112|-118.2716|\n",
            "|210705560|11/27/20 0:00|11/27/20 0:00|    1800|   7|   Wilshire|        776|       1|   230|ASSAULT WITH DEAD...|           1309 0400|      31|       F|           O|      101|              STREET|           307|             VEHICLE|    AA|Adult Arrest|     230|    NULL|    NULL|    NULL|4500    LOMITA   ...|                NULL|34.0452|-118.3351|\n",
            "|221016258| 9/20/22 0:00|  1/1/20 0:00|       1|  10|West Valley|       1067|       2|   956|LETTERS, LEWD  - ...|      2041 1906 1822|      30|       F|           O|      501|SINGLE FAMILY DWE...|          NULL|                NULL|    IC| Invest Cont|     956|    NULL|    NULL|    NULL|5200    GENESTA  ...|                NULL| 34.166|-118.5033|\n",
            "+---------+-------------+-------------+--------+----+-----------+-----------+--------+------+--------------------+--------------------+--------+--------+------------+---------+--------------------+--------------+--------------------+------+------------+--------+--------+--------+--------+--------------------+--------------------+-------+---------+\n",
            "only showing top 20 rows\n",
            "\n"
          ]
        }
      ]
    },
    {
      "cell_type": "code",
      "source": [
        "#Create temp view\n",
        "df.createOrReplaceTempView('crimesdata')"
      ],
      "metadata": {
        "id": "OWnW90W1TAQW"
      },
      "execution_count": 9,
      "outputs": []
    },
    {
      "cell_type": "code",
      "source": [
        "# Get highset crime Area/District\n",
        "df_sum = spark.sql(\"SELECT District, count(*) as crimecount FROM crimesdata GROUP BY District Order by crimecount desc\")\n",
        "df_sum.show()"
      ],
      "metadata": {
        "colab": {
          "base_uri": "https://localhost:8080/"
        },
        "id": "FvWQIwFYRrEt",
        "outputId": "9bb19904-fe66-41c5-8a2f-0ca43d449f03"
      },
      "execution_count": 10,
      "outputs": [
        {
          "output_type": "stream",
          "name": "stdout",
          "text": [
            "+-----------+----------+\n",
            "|   District|crimecount|\n",
            "+-----------+----------+\n",
            "|    Central|     63827|\n",
            "|77th Street|     59240|\n",
            "|    Pacific|     55046|\n",
            "|  Southwest|     53590|\n",
            "|  Hollywood|     49344|\n",
            "|N Hollywood|     48081|\n",
            "|  Southeast|     47710|\n",
            "|    Olympic|     47409|\n",
            "|     Newton|     46586|\n",
            "|   Wilshire|     45208|\n",
            "|    Rampart|     43966|\n",
            "|    West LA|     43127|\n",
            "|   Van Nuys|     40427|\n",
            "|  Northeast|     40316|\n",
            "|West Valley|     40099|\n",
            "|     Harbor|     39160|\n",
            "| Devonshire|     39159|\n",
            "|    Topanga|     39061|\n",
            "|    Mission|     37841|\n",
            "| Hollenbeck|     34800|\n",
            "+-----------+----------+\n",
            "only showing top 20 rows\n",
            "\n"
          ]
        }
      ]
    },
    {
      "cell_type": "code",
      "source": [
        "df.printSchema()"
      ],
      "metadata": {
        "colab": {
          "base_uri": "https://localhost:8080/"
        },
        "id": "spzUymQEZ1n7",
        "outputId": "7faef3d4-d29e-4e62-a397-06bbb37ff767"
      },
      "execution_count": 11,
      "outputs": [
        {
          "output_type": "stream",
          "name": "stdout",
          "text": [
            "root\n",
            " |-- DR_NO: string (nullable = true)\n",
            " |-- Date Rptd: string (nullable = true)\n",
            " |-- DATE OCC: string (nullable = true)\n",
            " |-- TIME OCC: string (nullable = true)\n",
            " |-- AREA: string (nullable = true)\n",
            " |-- District: string (nullable = true)\n",
            " |-- Rpt Dist No: string (nullable = true)\n",
            " |-- Part 1-2: string (nullable = true)\n",
            " |-- Crm Cd: string (nullable = true)\n",
            " |-- Crimes: string (nullable = true)\n",
            " |-- Mocodes: string (nullable = true)\n",
            " |-- Vict Age: string (nullable = true)\n",
            " |-- Vict Sex: string (nullable = true)\n",
            " |-- Vict Descent: string (nullable = true)\n",
            " |-- Premis Cd: string (nullable = true)\n",
            " |-- Premis Desc: string (nullable = true)\n",
            " |-- Weapon Used Cd: string (nullable = true)\n",
            " |-- Weapon Desc: string (nullable = true)\n",
            " |-- Status: string (nullable = true)\n",
            " |-- Status Desc: string (nullable = true)\n",
            " |-- Crm Cd 1: string (nullable = true)\n",
            " |-- Crm Cd 2: string (nullable = true)\n",
            " |-- Crm Cd 3: string (nullable = true)\n",
            " |-- Crm Cd 4: string (nullable = true)\n",
            " |-- LOCATION: string (nullable = true)\n",
            " |-- Cross Street: string (nullable = true)\n",
            " |-- LAT: string (nullable = true)\n",
            " |-- LON: string (nullable = true)\n",
            "\n"
          ]
        }
      ]
    },
    {
      "cell_type": "code",
      "source": [
        "# Get highest Crime type\n",
        "start_time = time.time()\n",
        "df_sum_area = spark.sql(\"SELECT  Crimes, count(*) as crimecount FROM crimesdata GROUP BY  Crimes Order by  crimecount desc\")\n",
        "df_sum_area.show()\n",
        "\n",
        "print(\"--- %s seconds ---\" % (time.time() - start_time))"
      ],
      "metadata": {
        "id": "WJuu_gUE-hne",
        "colab": {
          "base_uri": "https://localhost:8080/"
        },
        "outputId": "9c95ca07-81de-4cdb-ce14-8fd6ed7c6e65"
      },
      "execution_count": 12,
      "outputs": [
        {
          "output_type": "stream",
          "name": "stdout",
          "text": [
            "+--------------------+----------+\n",
            "|              Crimes|crimecount|\n",
            "+--------------------+----------+\n",
            "|    VEHICLE - STOLEN|    102820|\n",
            "|BATTERY - SIMPLE ...|     74185|\n",
            "|BURGLARY FROM VEH...|     58522|\n",
            "|   THEFT OF IDENTITY|     58493|\n",
            "|            BURGLARY|     57512|\n",
            "|VANDALISM - FELON...|     57379|\n",
            "|ASSAULT WITH DEAD...|     53187|\n",
            "|THEFT PLAIN - PET...|     48348|\n",
            "|INTIMATE PARTNER ...|     46427|\n",
            "|THEFT FROM MOTOR ...|     36835|\n",
            "|THEFT FROM MOTOR ...|     34009|\n",
            "|             ROBBERY|     31975|\n",
            "|THEFT-GRAND ($950...|     31800|\n",
            "|SHOPLIFTING - PET...|     25714|\n",
            "|VANDALISM - MISDE...|     24247|\n",
            "|CRIMINAL THREATS ...|     19179|\n",
            "|         TRESPASSING|     14546|\n",
            "|     BRANDISH WEAPON|     14445|\n",
            "|INTIMATE PARTNER ...|     12627|\n",
            "|VIOLATION OF REST...|     11586|\n",
            "+--------------------+----------+\n",
            "only showing top 20 rows\n",
            "\n",
            "--- 6.843285083770752 seconds ---\n"
          ]
        }
      ]
    },
    {
      "cell_type": "code",
      "source": [],
      "metadata": {
        "id": "D8HWwNCPRf92"
      },
      "execution_count": null,
      "outputs": []
    },
    {
      "cell_type": "code",
      "source": [],
      "metadata": {
        "id": "JSDlYeSHWAlk"
      },
      "execution_count": null,
      "outputs": []
    },
    {
      "cell_type": "code",
      "source": [],
      "metadata": {
        "id": "iAWHOS8G4vic"
      },
      "execution_count": null,
      "outputs": []
    },
    {
      "cell_type": "code",
      "source": [
        "\n",
        "\n",
        "\n",
        "\n",
        "\n"
      ],
      "metadata": {
        "colab": {
          "base_uri": "https://localhost:8080/",
          "height": 671
        },
        "id": "5SS6V2vR4VCj",
        "outputId": "9f75a3d3-7e62-4bdc-eaea-82834fb27a2a"
      },
      "execution_count": null,
      "outputs": [
        {
          "output_type": "display_data",
          "data": {
            "text/plain": [
              "<IPython.core.display.Javascript object>"
            ],
            "application/javascript": [
              "(async (port, path, width, height, cache, element) => {\n",
              "    if (!google.colab.kernel.accessAllowed && !cache) {\n",
              "      return;\n",
              "    }\n",
              "    element.appendChild(document.createTextNode(''));\n",
              "    const url = await google.colab.kernel.proxyPort(port, {cache});\n",
              "    const iframe = document.createElement('iframe');\n",
              "    iframe.src = new URL(path, url).toString();\n",
              "    iframe.height = height;\n",
              "    iframe.width = width;\n",
              "    iframe.style.border = 0;\n",
              "    iframe.allow = [\n",
              "        'accelerometer',\n",
              "        'autoplay',\n",
              "        'camera',\n",
              "        'clipboard-read',\n",
              "        'clipboard-write',\n",
              "        'gyroscope',\n",
              "        'magnetometer',\n",
              "        'microphone',\n",
              "        'serial',\n",
              "        'usb',\n",
              "        'xr-spatial-tracking',\n",
              "    ].join('; ');\n",
              "    element.appendChild(iframe);\n",
              "  })(8050, \"/\", \"100%\", 650, false, window.element)"
            ]
          },
          "metadata": {}
        }
      ]
    }
  ],
  "metadata": {
    "kernelspec": {
      "display_name": "Python 3 (ipykernel)",
      "language": "python",
      "name": "python3"
    },
    "language_info": {
      "codemirror_mode": {
        "name": "ipython",
        "version": 3
      },
      "file_extension": ".py",
      "mimetype": "text/x-python",
      "name": "python",
      "nbconvert_exporter": "python",
      "pygments_lexer": "ipython3",
      "version": "3.10.13"
    },
    "colab": {
      "provenance": [],
      "include_colab_link": true
    }
  },
  "nbformat": 4,
  "nbformat_minor": 0
}